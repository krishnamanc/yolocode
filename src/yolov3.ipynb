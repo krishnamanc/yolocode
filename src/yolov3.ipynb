{
 "cells": [
  {
   "cell_type": "code",
   "execution_count": 1,
   "metadata": {},
   "outputs": [],
   "source": [
    "from __init__ import *\n",
    "from config import *\n",
    "from inference import *\n",
    "from main import *\n",
    "from model import *\n",
    "from training import *\n",
    "from utils import *"
   ]
  },
  {
   "cell_type": "code",
   "execution_count": 2,
   "metadata": {},
   "outputs": [],
   "source": [
    "import datetime\n",
    "import logging\n",
    "import os\n",
    "\n",
    "def run_yolo_inference():\n",
    "    # Set default values\n",
    "    debug = False\n",
    "    verbose = False\n",
    "    log_dir = 'logs'\n",
    "    cpu_only = False\n",
    "    out_dir = 'output'\n",
    "    weight_path = 'yolov3_original.pt'\n",
    "    from_ckpt = False\n",
    "    img_dir = './data/samples'\n",
    "    img_size = 416\n",
    "    batch_size = 8\n",
    "    n_cpu = 4\n",
    "    conf_thres = 0.5\n",
    "    nms_thres = 0.4\n",
    "    save_det = True\n",
    "    save_img = True\n",
    "    class_path = 'coco.names'\n",
    "\n",
    "    # configure logging\n",
    "    current_datetime_str = datetime.datetime.now().strftime(\"%Y-%m-%d-%H-%M-%S\")\n",
    "    log_file_name_by_time = current_datetime_str + \".log\"\n",
    "    if debug:\n",
    "        log_level = logging.DEBUG\n",
    "    elif verbose:\n",
    "        log_level = logging.INFO\n",
    "    else:\n",
    "        log_level = logging.WARNING\n",
    "    config_logging(log_dir, log_file_name_by_time, level=log_level)\n",
    "\n",
    "    # set the device for inference\n",
    "    dev = config_device(cpu_only)\n",
    "    make_output_dir(out_dir)\n",
    "\n",
    "    # load model\n",
    "    model = load_yolov3_model(weight_path, dev, ckpt=from_ckpt)\n",
    "\n",
    "    # load data\n",
    "    dataloader = load_dataset(type='image_folder',\n",
    "                              img_dir=img_dir,\n",
    "                              annot_dir=None,\n",
    "                              img_size=img_size,\n",
    "                              batch_size=batch_size,\n",
    "                              n_cpu=n_cpu,\n",
    "                              shuffle=False,\n",
    "                              augment=False)\n",
    "\n",
    "    # run detection\n",
    "    results = run_detection(model, dataloader, dev, conf_thres, nms_thres)\n",
    "\n",
    "    # post processing\n",
    "    if save_det:\n",
    "        json_path = '{}/{}/detections.json'.format(out_dir, current_datetime_str)\n",
    "        make_output_dir(os.path.split(json_path)[0])\n",
    "        save_results_as_json(results, json_path)\n",
    "\n",
    "    if save_img:\n",
    "        class_names = load_classes(class_path)\n",
    "        img_path = '{}/{}/img'.format(out_dir, current_datetime_str)\n",
    "        make_output_dir(img_path)\n",
    "        save_results_as_images(results, img_path, class_names)\n",
    "\n",
    "    return\n"
   ]
  },
  {
   "cell_type": "code",
   "execution_count": 3,
   "metadata": {},
   "outputs": [
    {
     "name": "stderr",
     "output_type": "stream",
     "text": [
      "WARNING:root:CUDA device is not available. Will use CPU\n"
     ]
    }
   ],
   "source": [
    "run_yolo_inference()"
   ]
  },
  {
   "cell_type": "code",
   "execution_count": null,
   "metadata": {},
   "outputs": [],
   "source": []
  }
 ],
 "metadata": {
  "kernelspec": {
   "display_name": "Python 3",
   "language": "python",
   "name": "python3"
  },
  "language_info": {
   "codemirror_mode": {
    "name": "ipython",
    "version": 3
   },
   "file_extension": ".py",
   "mimetype": "text/x-python",
   "name": "python",
   "nbconvert_exporter": "python",
   "pygments_lexer": "ipython3",
   "version": "3.9.8"
  }
 },
 "nbformat": 4,
 "nbformat_minor": 2
}
